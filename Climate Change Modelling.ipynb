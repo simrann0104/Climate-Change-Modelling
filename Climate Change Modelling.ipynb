{
 "cells": [
  {
   "cell_type": "code",
   "execution_count": 1,
   "id": "05143a71-7731-452f-8339-f29b90102607",
   "metadata": {},
   "outputs": [
    {
     "name": "stdout",
     "output_type": "stream",
     "text": [
      "Missing Values:\n",
      " date               0\n",
      "likesCount         0\n",
      "profileName        0\n",
      "commentsCount    278\n",
      "text              18\n",
      "dtype: int64\n"
     ]
    }
   ],
   "source": [
    "import pandas as pd\n",
    "\n",
    "# Load the dataset\n",
    "file_path = \"C:/Users/54321/OneDrive/Documents/Desktop/Unified Intern/Climate Change Project/climate_nasa.csv\"\n",
    "climate_data = pd.read_csv(file_path)\n",
    "\n",
    "# Check for missing values\n",
    "print(\"Missing Values:\\n\", climate_data.isnull().sum())\n"
   ]
  },
  {
   "cell_type": "code",
   "execution_count": 2,
   "id": "20e5a981-903a-4423-afe9-f85daeb3817b",
   "metadata": {},
   "outputs": [
    {
     "name": "stdout",
     "output_type": "stream",
     "text": [
      "Missing Values After Handling:\n",
      " date             0\n",
      "likesCount       0\n",
      "profileName      0\n",
      "commentsCount    0\n",
      "text             0\n",
      "dtype: int64\n"
     ]
    }
   ],
   "source": [
    "# Handle missing values:\n",
    "# Fill missing 'commentsCount' with median value\n",
    "climate_data['commentsCount'] = climate_data['commentsCount'].fillna(climate_data['commentsCount'].median())\n",
    "\n",
    "# Drop rows where 'text' column is missing (important for sentiment analysis)\n",
    "climate_data = climate_data.dropna(subset=['text'])\n",
    "\n",
    "# Reset the index after handling missing values\n",
    "climate_data.reset_index(drop=True, inplace=True)\n",
    "\n",
    "# Verify if missing values are handled\n",
    "print(\"Missing Values After Handling:\\n\", climate_data.isnull().sum())\n"
   ]
  },
  {
   "cell_type": "code",
   "execution_count": 3,
   "id": "0235bee6-07fd-4515-bfe2-e1c1154875cd",
   "metadata": {},
   "outputs": [
    {
     "name": "stdout",
     "output_type": "stream",
     "text": [
      "   text_length  word_count  likes_per_comment  year  month\n",
      "0          173          32           0.333333  2022      9\n",
      "1           51           8           0.000000  2022      9\n",
      "2          108          16           0.250000  2022      9\n",
      "3           94          19           0.666667  2022      9\n",
      "4          128          24           0.592593  2022      9\n"
     ]
    }
   ],
   "source": [
    "# Feature Engineering: Creating new features based on the 'text' and engagement columns\n",
    "\n",
    "# Create new feature: text length (number of characters in the comment)\n",
    "climate_data['text_length'] = climate_data['text'].apply(len)\n",
    "\n",
    "# Create new feature: word count (number of words in the comment)\n",
    "climate_data['word_count'] = climate_data['text'].apply(lambda x: len(x.split()))\n",
    "\n",
    "# Create new feature: likes per comment (normalized likes per comment)\n",
    "climate_data['likes_per_comment'] = climate_data['likesCount'] / (climate_data['commentsCount'] + 1)  # Avoid division by zero\n",
    "\n",
    "# Create new feature: month and year from the 'date' column (to analyze time-based trends)\n",
    "climate_data['year'] = pd.to_datetime(climate_data['date']).dt.year\n",
    "climate_data['month'] = pd.to_datetime(climate_data['date']).dt.month\n",
    "\n",
    "# Display the first few rows to check the new features\n",
    "print(climate_data[['text_length', 'word_count', 'likes_per_comment', 'year', 'month']].head())\n"
   ]
  },
  {
   "cell_type": "code",
   "execution_count": 7,
   "id": "799bcf8c-0edc-4efc-819b-a7893e7d30eb",
   "metadata": {},
   "outputs": [
    {
     "name": "stdout",
     "output_type": "stream",
     "text": [
      "                                                text  sentiment\n",
      "0  Neat comparison I have not heard it before.\\n ...          2\n",
      "1  An excellent way to visualise the invisible! T...          2\n",
      "2  Does the CO2/ghg in the troposphere affect the...          2\n",
      "3  excellent post! I defo feel the difference - o...          2\n",
      "4  Yes, and carbon dioxide does not harm the Eart...          2\n"
     ]
    }
   ],
   "source": [
    "# Create the sentiment column manually (this is a simple example, modify as needed)\n",
    "# 1 = Positive, 0 = Negative, 2 = Neutral\n",
    "climate_data['sentiment'] = climate_data['text'].apply(lambda x: 1 if 'good' in x else (0 if 'bad' in x else 2))\n",
    "\n",
    "# Display the first few rows to confirm that the sentiment column has been added\n",
    "print(climate_data[['text', 'sentiment']].head())\n"
   ]
  },
  {
   "cell_type": "code",
   "execution_count": 8,
   "id": "2a49780d-b9fe-40b6-b756-bcd22c7ad4ee",
   "metadata": {},
   "outputs": [
    {
     "name": "stdout",
     "output_type": "stream",
     "text": [
      "Training set shape: (403, 6)\n",
      "Test set shape: (101, 6)\n"
     ]
    }
   ],
   "source": [
    "from sklearn.model_selection import train_test_split\n",
    "\n",
    "# Select features (X) and target variable (y)\n",
    "X = climate_data[['text', 'likesCount', 'commentsCount', 'text_length', 'word_count', 'likes_per_comment']]\n",
    "y = climate_data['sentiment']  # Now the 'sentiment' column exists\n",
    "\n",
    "# Split the data into training and test sets (80% train, 20% test)\n",
    "X_train, X_test, y_train, y_test = train_test_split(X, y, test_size=0.2, random_state=42)\n",
    "\n",
    "# Display the shape of the training and test sets\n",
    "print(\"Training set shape:\", X_train.shape)\n",
    "print(\"Test set shape:\", X_test.shape)\n"
   ]
  },
  {
   "cell_type": "code",
   "execution_count": 9,
   "id": "3db82dbe-420c-431c-a42d-80b3876b0807",
   "metadata": {},
   "outputs": [
    {
     "name": "stdout",
     "output_type": "stream",
     "text": [
      "Shape of training data (TF-IDF): (403, 1000)\n",
      "Shape of test data (TF-IDF): (101, 1000)\n"
     ]
    }
   ],
   "source": [
    "from sklearn.feature_extraction.text import TfidfVectorizer\n",
    "\n",
    "# Initialize the TF-IDF Vectorizer\n",
    "vectorizer = TfidfVectorizer(stop_words='english', max_features=1000)\n",
    "\n",
    "# Apply TF-IDF vectorizer to the 'text' column in the training and test data\n",
    "X_train_tfidf = vectorizer.fit_transform(X_train['text'])\n",
    "X_test_tfidf = vectorizer.transform(X_test['text'])\n",
    "\n",
    "# Check the shape of the transformed data\n",
    "print(\"Shape of training data (TF-IDF):\", X_train_tfidf.shape)\n",
    "print(\"Shape of test data (TF-IDF):\", X_test_tfidf.shape)\n"
   ]
  },
  {
   "cell_type": "code",
   "execution_count": 10,
   "id": "ea6bd1e2-4eb5-43ac-a4c6-287262a181e5",
   "metadata": {},
   "outputs": [
    {
     "name": "stdout",
     "output_type": "stream",
     "text": [
      "Accuracy: 0.9702970297029703\n",
      "Classification Report:\n",
      "               precision    recall  f1-score   support\n",
      "\n",
      "           0       1.00      0.00      0.00         2\n",
      "           1       0.50      1.00      0.67         1\n",
      "           2       0.98      0.99      0.98        98\n",
      "\n",
      "    accuracy                           0.97       101\n",
      "   macro avg       0.83      0.66      0.55       101\n",
      "weighted avg       0.98      0.97      0.96       101\n",
      "\n",
      "Confusion Matrix:\n",
      " [[ 0  0  2]\n",
      " [ 0  1  0]\n",
      " [ 0  1 97]]\n"
     ]
    }
   ],
   "source": [
    "from sklearn.linear_model import LogisticRegression\n",
    "from sklearn.metrics import accuracy_score, classification_report, confusion_matrix\n",
    "\n",
    "# Train a Logistic Regression model with balanced class weights\n",
    "model = LogisticRegression(max_iter=200, class_weight='balanced')\n",
    "model.fit(X_train_tfidf, y_train)\n",
    "\n",
    "# Predict on the test set\n",
    "y_pred = model.predict(X_test_tfidf)\n",
    "\n",
    "# Evaluate the model\n",
    "print(\"Accuracy:\", accuracy_score(y_test, y_pred))\n",
    "print(\"Classification Report:\\n\", classification_report(y_test, y_pred, zero_division=1))  # Avoid precision warnings\n",
    "print(\"Confusion Matrix:\\n\", confusion_matrix(y_test, y_pred))\n"
   ]
  },
  {
   "cell_type": "code",
   "execution_count": 11,
   "id": "551a4921-6b3f-4443-8eb1-969c8c4b53da",
   "metadata": {},
   "outputs": [
    {
     "data": {
      "image/png": "[encoded data removed]",
      "text/plain": [
       "<Figure size 640x480 with 2 Axes>"
      ]
     },
     "metadata": {},
     "output_type": "display_data"
    }
   ],
   "source": [
    "import seaborn as sns\n",
    "import matplotlib.pyplot as plt\n",
    "from sklearn.metrics import confusion_matrix\n",
    "\n",
    "# Generate confusion matrix\n",
    "cm = confusion_matrix(y_test, y_pred)\n",
    "\n",
    "# Plot confusion matrix using seaborn heatmap\n",
    "sns.heatmap(cm, annot=True, fmt='d', cmap='Blues', xticklabels=['Negative', 'Neutral', 'Positive'], yticklabels=['Negative', 'Neutral', 'Positive'])\n",
    "plt.xlabel('Predicted')\n",
    "plt.ylabel('Actual')\n",
    "plt.title('Confusion Matrix')\n",
    "plt.show()\n"
   ]
  },
  {
   "cell_type": "code",
   "execution_count": 12,
   "id": "02664eea-d732-4a88-9434-5fd01ae13f74",
   "metadata": {},
   "outputs": [
    {
     "name": "stdout",
     "output_type": "stream",
     "text": [
      "Fitting 5 folds for each of 24 candidates, totalling 120 fits\n",
      "Best parameters found by GridSearchCV: {'C': 10, 'max_iter': 100, 'solver': 'liblinear'}\n",
      "Accuracy: 0.9702970297029703\n",
      "Classification Report:\n",
      "               precision    recall  f1-score   support\n",
      "\n",
      "           0       1.00      0.00      0.00         2\n",
      "           1       0.50      1.00      0.67         1\n",
      "           2       0.98      0.99      0.98        98\n",
      "\n",
      "    accuracy                           0.97       101\n",
      "   macro avg       0.83      0.66      0.55       101\n",
      "weighted avg       0.98      0.97      0.96       101\n",
      "\n",
      "Confusion Matrix:\n",
      " [[ 0  0  2]\n",
      " [ 0  1  0]\n",
      " [ 0  1 97]]\n"
     ]
    }
   ],
   "source": [
    "from sklearn.model_selection import GridSearchCV\n",
    "\n",
    "# Define the parameter grid for Logistic Regression\n",
    "param_grid = {\n",
    "    'C': [0.01, 0.1, 1, 10],  # Regularization strength\n",
    "    'solver': ['liblinear', 'saga'],  # Solvers to try\n",
    "    'max_iter': [100, 200, 300]  # Maximum number of iterations\n",
    "}\n",
    "\n",
    "# Initialize GridSearchCV\n",
    "grid_search = GridSearchCV(LogisticRegression(class_weight='balanced'), param_grid, cv=5, n_jobs=-1, verbose=1)\n",
    "\n",
    "# Fit GridSearchCV on the training data\n",
    "grid_search.fit(X_train_tfidf, y_train)\n",
    "\n",
    "# Best parameters from the grid search\n",
    "print(\"Best parameters found by GridSearchCV:\", grid_search.best_params_)\n",
    "\n",
    "# Train the model using the best parameters\n",
    "best_model = grid_search.best_estimator_\n",
    "\n",
    "# Predict on the test set with the best model\n",
    "y_pred = best_model.predict(X_test_tfidf)\n",
    "\n",
    "# Evaluate the model\n",
    "print(\"Accuracy:\", accuracy_score(y_test, y_pred))\n",
    "print(\"Classification Report:\\n\", classification_report(y_test, y_pred, zero_division=1))\n",
    "print(\"Confusion Matrix:\\n\", confusion_matrix(y_test, y_pred))\n"
   ]
  },
  {
   "cell_type": "code",
   "execution_count": 13,
   "id": "98d3bae7-e106-49ec-8fb3-59e58921bcdd",
   "metadata": {},
   "outputs": [
    {
     "name": "stdout",
     "output_type": "stream",
     "text": [
      "Classification Report:\n",
      "               precision    recall  f1-score   support\n",
      "\n",
      "           0       1.00      0.00      0.00         2\n",
      "           1       0.50      1.00      0.67         1\n",
      "           2       0.98      0.99      0.98        98\n",
      "\n",
      "    accuracy                           0.97       101\n",
      "   macro avg       0.83      0.66      0.55       101\n",
      "weighted avg       0.98      0.97      0.96       101\n",
      "\n",
      "Confusion Matrix:\n",
      " [[ 0  0  2]\n",
      " [ 0  1  0]\n",
      " [ 0  1 97]]\n"
     ]
    },
    {
     "data": {
      "image/png": "[encoded data removed]",
      "text/plain": [
       "<Figure size 640x480 with 2 Axes>"
      ]
     },
     "metadata": {},
     "output_type": "display_data"
    }
   ],
   "source": [
    "from sklearn.metrics import classification_report, confusion_matrix\n",
    "\n",
    "# Evaluate the model using classification report\n",
    "print(\"Classification Report:\\n\", classification_report(y_test, y_pred, zero_division=1))\n",
    "\n",
    "# Confusion matrix to visualize the performance\n",
    "cm = confusion_matrix(y_test, y_pred)\n",
    "print(\"Confusion Matrix:\\n\", cm)\n",
    "\n",
    "# Plot the confusion matrix as a heatmap for better visualization\n",
    "import seaborn as sns\n",
    "import matplotlib.pyplot as plt\n",
    "\n",
    "sns.heatmap(cm, annot=True, fmt='d', cmap='Blues', xticklabels=['Negative', 'Neutral', 'Positive'], yticklabels=['Negative', 'Neutral', 'Positive'])\n",
    "plt.xlabel('Predicted')\n",
    "plt.ylabel('Actual')\n",
    "plt.title('Confusion Matrix')\n",
    "plt.show()\n"
   ]
  },
  {
   "cell_type": "code",
   "execution_count": 14,
   "id": "8adf29a2-94fb-413e-a122-2aadd7e0ae24",
   "metadata": {},
   "outputs": [
    {
     "name": "stdout",
     "output_type": "stream",
     "text": [
      "Class distribution in the training set: sentiment\n",
      "2    386\n",
      "1     10\n",
      "0      7\n",
      "Name: count, dtype: int64\n",
      "Class distribution in the test set: sentiment\n",
      "2    98\n",
      "0     2\n",
      "1     1\n",
      "Name: count, dtype: int64\n"
     ]
    }
   ],
   "source": [
    "# Check the distribution of classes in the target variable (sentiment)\n",
    "print(\"Class distribution in the training set:\", y_train.value_counts())\n",
    "print(\"Class distribution in the test set:\", y_test.value_counts())\n"
   ]
  },
  {
   "cell_type": "code",
   "execution_count": 15,
   "id": "9facf2cc-82af-4ce8-8228-a16dac0ecbf8",
   "metadata": {},
   "outputs": [
    {
     "name": "stdout",
     "output_type": "stream",
     "text": [
      "Sentiment Prediction: [2]\n"
     ]
    }
   ],
   "source": [
    "import joblib\n",
    "\n",
    "# Save the trained model\n",
    "joblib.dump(best_model, 'sentiment_model.pkl')\n",
    "\n",
    "# Load the saved model (when you want to use it in the future)\n",
    "loaded_model = joblib.load('sentiment_model.pkl')\n",
    "\n",
    "# Predict on new data using the loaded model\n",
    "new_data = [\"The climate change is a serious issue and requires immediate attention.\"]\n",
    "new_data_tfidf = vectorizer.transform(new_data)\n",
    "prediction = loaded_model.predict(new_data_tfidf)\n",
    "print(\"Sentiment Prediction:\", prediction)\n"
   ]
  },
  {
   "cell_type": "code",
   "execution_count": 17,
   "id": "862aae29-b0bc-4dc4-8b0d-35acbf83a178",
   "metadata": {},
   "outputs": [
    {
     "name": "stdout",
     "output_type": "stream",
     "text": [
      "Topic 1:\n",
      "['make', 'world', 'data', 'just', 'earth', 'planet', 'nasa', 'people', 'change', 'climate']\n",
      "\n",
      "\n",
      "Topic 2:\n",
      "['temperature', 'just', 'climate', 'weather', 'know', 'science', 'anos', 'going', 'don', 'global']\n",
      "\n",
      "\n",
      "Topic 3:\n",
      "['co2', 'rise', 'years', 'feet', 'level', 'sea', 'atmosphere', 'dioxide', 'water', 'carbon']\n",
      "\n",
      "\n",
      "Topic 4:\n",
      "['change', 'climate', 'time', 'atmosphere', 'just', 'heat', 'years', 'sun', 'co2', 'earth']\n",
      "\n",
      "\n",
      "Topic 5:\n",
      "['better', 'year', 'planet', 'human', 'energy', 'change', 'climate', 'need', 'warming', 'global']\n",
      "\n",
      "\n"
     ]
    }
   ],
   "source": [
    "from sklearn.decomposition import LatentDirichletAllocation\n",
    "from sklearn.feature_extraction.text import CountVectorizer\n",
    "\n",
    "# Vectorize the text data\n",
    "vectorizer = CountVectorizer(stop_words='english', max_features=1000)\n",
    "X_text = vectorizer.fit_transform(climate_data['text'])\n",
    "\n",
    "# Apply LDA for topic modeling\n",
    "lda = LatentDirichletAllocation(n_components=5, random_state=42)  # You can change n_components for the number of topics\n",
    "lda.fit(X_text)\n",
    "\n",
    "# Display the topics\n",
    "for index, topic in enumerate(lda.components_):\n",
    "    print(f\"Topic {index + 1}:\")\n",
    "    print([vectorizer.get_feature_names_out()[i] for i in topic.argsort()[-10:]])  # Top 10 words for each topic\n",
    "    print(\"\\n\")\n"
   ]
  },
  {
   "cell_type": "code",
   "execution_count": 18,
   "id": "23e702f4-3b31-4667-a315-2755cf094666",
   "metadata": {},
   "outputs": [
    {
     "data": {
      "image/png": "[encoded data removed]",
      "text/plain": [
       "<Figure size 1000x600 with 1 Axes>"
      ]
     },
     "metadata": {},
     "output_type": "display_data"
    }
   ],
   "source": [
    "import matplotlib.pyplot as plt\n",
    "\n",
    "# Add a column for the sentiment label (for better visualization in trends)\n",
    "climate_data['sentiment_label'] = climate_data['sentiment'].map({0: 'Negative', 1: 'Positive', 2: 'Neutral'})\n",
    "\n",
    "# Group by year and sentiment to count occurrences\n",
    "sentiment_trend = climate_data.groupby(['year', 'sentiment_label']).size().unstack(fill_value=0)\n",
    "\n",
    "# Plot the sentiment trend over the years\n",
    "sentiment_trend.plot(kind='bar', stacked=True, figsize=(10, 6))\n",
    "plt.title('Sentiment Trend Over Time')\n",
    "plt.xlabel('Year')\n",
    "plt.ylabel('Number of Posts')\n",
    "plt.xticks(rotation=45)\n",
    "plt.legend(title='Sentiment', bbox_to_anchor=(1.05, 1), loc='upper left')\n",
    "plt.tight_layout()\n",
    "plt.show()\n"
   ]
  },
  {
   "cell_type": "code",
   "execution_count": 19,
   "id": "be3fe09e-f0ce-43a6-b880-e56dca067be7",
   "metadata": {},
   "outputs": [
    {
     "name": "stdout",
     "output_type": "stream",
     "text": [
      "Mean Absolute Error: 3.3408910891089105\n",
      "Mean Squared Error: 158.67786831683168\n",
      "R-squared: 0.3393624703693786\n"
     ]
    }
   ],
   "source": [
    "from sklearn.ensemble import RandomForestRegressor\n",
    "from sklearn.metrics import mean_absolute_error, mean_squared_error, r2_score\n",
    "\n",
    "# Select features for predicting engagement\n",
    "X_engagement = climate_data[['text_length', 'word_count', 'likes_per_comment', 'sentiment']]\n",
    "y_engagement = climate_data['likesCount']  # You can also try 'commentsCount'\n",
    "\n",
    "# Split the data into training and test sets\n",
    "X_train_engagement, X_test_engagement, y_train_engagement, y_test_engagement = train_test_split(X_engagement, y_engagement, test_size=0.2, random_state=42)\n",
    "\n",
    "# Train the Random Forest model\n",
    "engagement_model = RandomForestRegressor(n_estimators=100, random_state=42)\n",
    "engagement_model.fit(X_train_engagement, y_train_engagement)\n",
    "\n",
    "# Predict engagement on the test set\n",
    "y_pred_engagement = engagement_model.predict(X_test_engagement)\n",
    "\n",
    "# Evaluate the model\n",
    "print(\"Mean Absolute Error:\", mean_absolute_error(y_test_engagement, y_pred_engagement))\n",
    "print(\"Mean Squared Error:\", mean_squared_error(y_test_engagement, y_pred_engagement))\n",
    "print(\"R-squared:\", r2_score(y_test_engagement, y_pred_engagement))\n"
   ]
  },
  {
   "cell_type": "code",
   "execution_count": 21,
   "id": "a259d5bb-40ef-4821-98aa-93ad3710ce69",
   "metadata": {},
   "outputs": [
    {
     "name": "stdout",
     "output_type": "stream",
     "text": [
      "Index(['date', 'likesCount', 'profileName', 'commentsCount', 'text',\n",
      "       'text_length', 'word_count', 'likes_per_comment', 'year', 'month',\n",
      "       'sentiment', 'sentiment_label'],\n",
      "      dtype='object')\n"
     ]
    }
   ],
   "source": [
    "# Check the column names to see if 'CO2_level' exists\n",
    "print(climate_data.columns)\n"
   ]
  },
  {
   "cell_type": "code",
   "execution_count": 25,
   "id": "c41c6533-26c3-4db0-bbd6-0fc607170669",
   "metadata": {},
   "outputs": [
    {
     "name": "stdout",
     "output_type": "stream",
     "text": [
      "Missing Values:\n",
      " date               0\n",
      "likesCount         0\n",
      "profileName        0\n",
      "commentsCount    278\n",
      "text              18\n",
      "dtype: int64\n",
      "                                                text  sentiment\n",
      "0  Neat comparison I have not heard it before.\\n ...          2\n",
      "1  An excellent way to visualise the invisible! T...          2\n",
      "2  Does the CO2/ghg in the troposphere affect the...          2\n",
      "3  excellent post! I defo feel the difference - o...          2\n",
      "4  Yes, and carbon dioxide does not harm the Eart...          2\n",
      "Accuracy:               precision    recall  f1-score   support\n",
      "\n",
      "           0       1.00      0.00      0.00         2\n",
      "           1       0.50      1.00      0.67         1\n",
      "           2       0.98      0.99      0.98        98\n",
      "\n",
      "    accuracy                           0.97       101\n",
      "   macro avg       0.83      0.66      0.55       101\n",
      "weighted avg       0.98      0.97      0.96       101\n",
      "\n"
     ]
    },
    {
     "data": {
      "image/png": "[encoded data removed]",
      "text/plain": [
       "<Figure size 1000x600 with 1 Axes>"
      ]
     },
     "metadata": {},
     "output_type": "display_data"
    }
   ],
   "source": [
    "import pandas as pd\n",
    "import matplotlib.pyplot as plt\n",
    "import seaborn as sns\n",
    "from sklearn.feature_extraction.text import TfidfVectorizer\n",
    "from sklearn.linear_model import LogisticRegression\n",
    "from sklearn.model_selection import train_test_split\n",
    "from sklearn.metrics import classification_report, confusion_matrix\n",
    "\n",
    "# Load the dataset\n",
    "file_path = \"C:/Users/54321/OneDrive/Documents/Desktop/Unified Intern/Climate Change Project/climate_nasa.csv\"\n",
    "climate_data = pd.read_csv(file_path)\n",
    "\n",
    "# Check for missing values\n",
    "print(\"Missing Values:\\n\", climate_data.isnull().sum())\n",
    "\n",
    "# Handle missing values:\n",
    "# Fill missing 'commentsCount' with median value\n",
    "climate_data['commentsCount'] = climate_data['commentsCount'].fillna(climate_data['commentsCount'].median())\n",
    "\n",
    "# Drop rows where 'text' column is missing (important for sentiment analysis)\n",
    "climate_data = climate_data.dropna(subset=['text'])\n",
    "\n",
    "# Reset the index after handling missing values\n",
    "climate_data.reset_index(drop=True, inplace=True)\n",
    "\n",
    "# Feature Engineering: Creating new features based on the 'text' and engagement columns\n",
    "climate_data['text_length'] = climate_data['text'].apply(len)\n",
    "climate_data['word_count'] = climate_data['text'].apply(lambda x: len(x.split()))\n",
    "climate_data['likes_per_comment'] = climate_data['likesCount'] / (climate_data['commentsCount'] + 1)\n",
    "climate_data['year'] = pd.to_datetime(climate_data['date']).dt.year\n",
    "climate_data['month'] = pd.to_datetime(climate_data['date']).dt.month\n",
    "\n",
    "# Create the sentiment column manually (this is a simple example, modify as needed)\n",
    "climate_data['sentiment'] = climate_data['text'].apply(lambda x: 1 if 'good' in x else (0 if 'bad' in x else 2))\n",
    "\n",
    "# Display the first few rows to confirm that the sentiment column has been added\n",
    "print(climate_data[['text', 'sentiment']].head())\n",
    "\n",
    "# Initialize the TF-IDF Vectorizer\n",
    "vectorizer = TfidfVectorizer(stop_words='english', max_features=1000)\n",
    "\n",
    "# Apply TF-IDF vectorizer to the 'text' column in the data\n",
    "X = climate_data[['text', 'likesCount', 'commentsCount', 'text_length', 'word_count', 'likes_per_comment']]\n",
    "y = climate_data['sentiment']  # Sentiment as target\n",
    "\n",
    "# Split the data into training and test sets (80% train, 20% test)\n",
    "X_train, X_test, y_train, y_test = train_test_split(X, y, test_size=0.2, random_state=42)\n",
    "\n",
    "# Apply TF-IDF transformation to the 'text' column\n",
    "X_train_tfidf = vectorizer.fit_transform(X_train['text'])\n",
    "X_test_tfidf = vectorizer.transform(X_test['text'])\n",
    "\n",
    "# Train a Logistic Regression model with balanced class weights\n",
    "model = LogisticRegression(max_iter=200, class_weight='balanced')\n",
    "model.fit(X_train_tfidf, y_train)\n",
    "\n",
    "# Predict sentiment for the test set\n",
    "y_pred = model.predict(X_test_tfidf)\n",
    "\n",
    "# Evaluate the model\n",
    "print(\"Accuracy:\", classification_report(y_test, y_pred, zero_division=1))\n",
    "\n",
    "# Create a new dataframe for scenario analysis\n",
    "scenario_data = climate_data.copy()\n",
    "\n",
    "# Define scenarios for years (you can modify this to fit your scenario)\n",
    "scenario_data['time_scenario'] = scenario_data['year'].apply(\n",
    "    lambda x: 'Early' if x < 2000 else ('Mid' if 2000 <= x < 2010 else 'Recent')\n",
    ")\n",
    "\n",
    "# Apply TF-IDF transformation to the 'text' column for the scenario data\n",
    "X_scenario_tfidf = vectorizer.transform(scenario_data['text'])\n",
    "\n",
    "# Predict sentiment for different scenarios\n",
    "sentiment_predictions = model.predict(X_scenario_tfidf)\n",
    "\n",
    "# Add the predicted sentiment to the scenario data\n",
    "scenario_data['predicted_sentiment'] = sentiment_predictions\n",
    "\n",
    "# Group the data by 'time_scenario' and 'predicted_sentiment', and count occurrences\n",
    "sentiment_by_time = scenario_data.groupby(['time_scenario', 'predicted_sentiment']).size().unstack(fill_value=0)\n",
    "\n",
    "# Plot the sentiment distribution based on time scenarios\n",
    "sentiment_by_time.plot(kind='bar', stacked=True, figsize=(10, 6))\n",
    "\n",
    "# Title and axis labels\n",
    "plt.title('Sentiment Distribution Based on Time Scenarios')\n",
    "plt.xlabel('Time Scenario')\n",
    "plt.ylabel('Number of Posts')\n",
    "\n",
    "# Rotate x-axis labels to 0 degrees (straight angle)\n",
    "plt.xticks(rotation=0)\n",
    "\n",
    "# Legend and layout adjustments\n",
    "plt.legend(title='Predicted Sentiment', bbox_to_anchor=(1.05, 1), loc='upper left')\n",
    "plt.tight_layout()\n",
    "\n",
    "# Show the plot\n",
    "plt.show()\n"
   ]
  },
  {
   "cell_type": "code",
   "execution_count": 16,
   "id": "6be226e8-1ddb-45a0-b998-ca16a1c4c7f3",
   "metadata": {},
   "outputs": [
    {
     "name": "stdout",
     "output_type": "stream",
     "text": [
      "Predictions: [2 2]\n"
     ]
    }
   ],
   "source": [
    "# Example: Predict sentiment on new comments\n",
    "new_comments = [\n",
    "    \"Global warming is a major concern that needs immediate action.\",\n",
    "    \"The weather seems fine today, no worries about climate change.\"\n",
    "]\n",
    "\n",
    "# Apply TF-IDF transformation on the new data\n",
    "new_comments_tfidf = vectorizer.transform(new_comments)\n",
    "\n",
    "# Predict sentiment\n",
    "predictions = best_model.predict(new_comments_tfidf)\n",
    "print(\"Predictions:\", predictions)\n"
   ]
  },
  {
   "cell_type": "code",
   "execution_count": null,
   "id": "4cced3f4-297f-4aee-ba93-763a12bfd3cc",
   "metadata": {},
   "outputs": [],
   "source": []
  },
  {
   "cell_type": "code",
   "execution_count": null,
   "id": "9468770c-f9b5-4932-b20f-1005307e39f9",
   "metadata": {},
   "outputs": [],
   "source": []
  }
 ],
 "metadata": {
  "kernelspec": {
   "display_name": "Python 3 (ipykernel)",
   "language": "python",
   "name": "python3"
  },
  "language_info": {
   "codemirror_mode": {
    "name": "ipython",
    "version": 3
   },
   "file_extension": ".py",
   "mimetype": "text/x-python",
   "name": "python",
   "nbconvert_exporter": "python",
   "pygments_lexer": "ipython3",
   "version": "3.12.7"
  }
 },
 "nbformat": 4,
 "nbformat_minor": 5
}
